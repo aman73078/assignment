{
 "cells": [
  {
   "cell_type": "code",
   "execution_count": 2,
   "id": "faf418c2-1ece-4a45-9d70-148fa6f6acdb",
   "metadata": {},
   "outputs": [],
   "source": [
    "# Q1. Create one variable containing following type of data:\n",
    "\n",
    "# (i)\tstring\n",
    "\n",
    "# (ii)\tlist\n",
    "\n",
    "# (iii)\tfloat\n",
    "\n",
    "# (iv)\ttuple"
   ]
  },
  {
   "cell_type": "code",
   "execution_count": 4,
   "id": "ae65b141-9d31-4953-b9bd-5298203341f7",
   "metadata": {},
   "outputs": [],
   "source": [
    "l = [\"string\", [1, 2, 3, 4], 38.05, (\"apple\", \"banana\", \"papaya\")]"
   ]
  },
  {
   "cell_type": "code",
   "execution_count": 6,
   "id": "a3458740-ab58-457c-bd43-604aefc61e16",
   "metadata": {},
   "outputs": [
    {
     "data": {
      "text/plain": [
       "['string', [1, 2, 3, 4], 38.05, ('apple', 'banana', 'papaya')]"
      ]
     },
     "execution_count": 6,
     "metadata": {},
     "output_type": "execute_result"
    }
   ],
   "source": [
    "l"
   ]
  },
  {
   "cell_type": "code",
   "execution_count": 7,
   "id": "281267d7-55bf-4c2c-a96a-3a0a2644ee3f",
   "metadata": {},
   "outputs": [],
   "source": [
    "# Q2. Given are some following variables containing data:\n",
    "\n",
    "# (i)\tvar1 = ‘ ‘\n",
    "\n",
    "# (ii)\tvar2 = ‘[ DS , ML , Python]’\n",
    "\n",
    "# (iii)\tvar3 = [ ‘DS’ , ’ML’ , ‘Python’ ]\n",
    "\n",
    "# (iv)\tvar4 = 1.\n",
    "\n",
    "\n",
    "# What will be the data type of the above given variable."
   ]
  },
  {
   "cell_type": "code",
   "execution_count": 11,
   "id": "a71c71e2-a4d3-4f8d-b5cf-aaba93a5abd4",
   "metadata": {},
   "outputs": [
    {
     "data": {
      "text/plain": [
       "str"
      ]
     },
     "execution_count": 11,
     "metadata": {},
     "output_type": "execute_result"
    }
   ],
   "source": [
    "# Ans- \n",
    "var1 = \" \"\n",
    "type(var1)"
   ]
  },
  {
   "cell_type": "code",
   "execution_count": 12,
   "id": "da213e90-3171-4ec7-97fd-d67f46888dec",
   "metadata": {},
   "outputs": [
    {
     "data": {
      "text/plain": [
       "str"
      ]
     },
     "execution_count": 12,
     "metadata": {},
     "output_type": "execute_result"
    }
   ],
   "source": [
    "var2 = '[ DS , ML , Python]'\n",
    "type(var2)"
   ]
  },
  {
   "cell_type": "code",
   "execution_count": 14,
   "id": "48818d66-8fd1-450a-b9f1-14699c8a280f",
   "metadata": {},
   "outputs": [
    {
     "data": {
      "text/plain": [
       "list"
      ]
     },
     "execution_count": 14,
     "metadata": {},
     "output_type": "execute_result"
    }
   ],
   "source": [
    "var3 = [ 'DS' , 'ML' , 'Python' ]\n",
    "type(var3)"
   ]
  },
  {
   "cell_type": "code",
   "execution_count": 15,
   "id": "f8a827ca-110d-4053-a223-059e0f3d098a",
   "metadata": {},
   "outputs": [
    {
     "data": {
      "text/plain": [
       "int"
      ]
     },
     "execution_count": 15,
     "metadata": {},
     "output_type": "execute_result"
    }
   ],
   "source": [
    "var4 = 1\n",
    "type(var4)"
   ]
  },
  {
   "cell_type": "code",
   "execution_count": 16,
   "id": "f89b0560-ae1b-4bf1-8b6b-1decfee50f84",
   "metadata": {},
   "outputs": [],
   "source": [
    "# Q3. Explain the use of the following operators using an example:\n",
    "\n",
    "# (i)\t/\n",
    "\n",
    "# (ii)\t% \n",
    "\n",
    "# (iii)\t//\n",
    "\n",
    "# (iv)\t**"
   ]
  },
  {
   "cell_type": "code",
   "execution_count": 28,
   "id": "b662c13c-05a6-4671-b8e2-8215f3cb6b26",
   "metadata": {},
   "outputs": [
    {
     "name": "stdout",
     "output_type": "stream",
     "text": [
      "Division: 26.333333333333332\n"
     ]
    }
   ],
   "source": [
    "# Ans-\n",
    "a = 79\n",
    "b = 3\n",
    "\n",
    "# / - DIVISION OPERATOR \n",
    "print(\"Division:\", a/b)"
   ]
  },
  {
   "cell_type": "code",
   "execution_count": 25,
   "id": "97268bc7-88c5-41ff-9263-07138a0a0e99",
   "metadata": {},
   "outputs": [
    {
     "name": "stdout",
     "output_type": "stream",
     "text": [
      "Remainder: 1\n"
     ]
    }
   ],
   "source": [
    "# % - MODULO OPERATOR\n",
    "print(\"Remainder:\", a%b)"
   ]
  },
  {
   "cell_type": "code",
   "execution_count": 26,
   "id": "c4883978-2ff2-4c1d-9d22-b67550dc826b",
   "metadata": {},
   "outputs": [
    {
     "name": "stdout",
     "output_type": "stream",
     "text": [
      "Floor Division: 26\n"
     ]
    }
   ],
   "source": [
    "# // - FLOOR DIVISION OPERATOR\n",
    "print(\"Floor Division:\", a//b)"
   ]
  },
  {
   "cell_type": "code",
   "execution_count": 27,
   "id": "865f7bcd-c699-4762-a1db-27b541c0087f",
   "metadata": {},
   "outputs": [
    {
     "name": "stdout",
     "output_type": "stream",
     "text": [
      "a to the power b: 493039\n"
     ]
    }
   ],
   "source": [
    "# ** - POWER OPERATOR\n",
    "print(\"a to the power b:\", a**b)"
   ]
  },
  {
   "cell_type": "code",
   "execution_count": 29,
   "id": "eac2414c-f479-4fb7-b53f-51d5966e0bf0",
   "metadata": {},
   "outputs": [],
   "source": [
    "# Q4. Create a list of length 10 of your choice containing multiple types of data. Using for loop print the \n",
    "#     element and its data type."
   ]
  },
  {
   "cell_type": "code",
   "execution_count": 31,
   "id": "f1383a74-154f-49e0-8998-7ca0e0284b10",
   "metadata": {},
   "outputs": [
    {
     "name": "stdout",
     "output_type": "stream",
     "text": [
      "elements: 1\n",
      "Data Type: <class 'int'>\n",
      "elements: 2\n",
      "Data Type: <class 'int'>\n",
      "elements: 3\n",
      "Data Type: <class 'int'>\n",
      "elements: 4\n",
      "Data Type: <class 'int'>\n",
      "elements: aman\n",
      "Data Type: <class 'str'>\n",
      "elements: tripathi\n",
      "Data Type: <class 'str'>\n",
      "elements: 33.8378\n",
      "Data Type: <class 'float'>\n",
      "elements: ('sudha', 'shyam')\n",
      "Data Type: <class 'tuple'>\n",
      "elements: 838\n",
      "Data Type: <class 'int'>\n",
      "elements: 8393.9393\n",
      "Data Type: <class 'float'>\n"
     ]
    }
   ],
   "source": [
    "l = [1, 2, 3, 4, \"aman\", 'tripathi', 33.8378, ('sudha', 'shyam'), 838, 8393.9393]\n",
    "for i in l:\n",
    "    print(\"elements:\", i)\n",
    "    print(\"Data Type:\", type(i))"
   ]
  },
  {
   "cell_type": "code",
   "execution_count": 1,
   "id": "6407dca7-ddeb-47c8-adfc-e37c6c0dc50a",
   "metadata": {},
   "outputs": [],
   "source": [
    "# Q5. Using a while loop, verify if the number A is purely divisible by number B and if so then how many \n",
    "#     times it can be divisible."
   ]
  },
  {
   "cell_type": "code",
   "execution_count": 3,
   "id": "c36944a9-19ec-4621-a1c0-df6886984096",
   "metadata": {},
   "outputs": [
    {
     "name": "stdout",
     "output_type": "stream",
     "text": [
      "B is a divisor of A and it can be divided number of times 1\n"
     ]
    }
   ],
   "source": [
    "# Ans- \n",
    "A = 24\n",
    "B = 3\n",
    "\n",
    "count = 0\n",
    "while A % B == 0:\n",
    "    A = A // B  # Integer division\n",
    "    count += 1\n",
    "\n",
    "if count > 0:\n",
    "    print(\"B is a divisor of A and it can be divided number of times\", count)\n",
    "else:\n",
    "    print(\"B is not a divisor of A.\")"
   ]
  },
  {
   "cell_type": "code",
   "execution_count": 7,
   "id": "fc150303-7700-421e-9909-962b4319874f",
   "metadata": {},
   "outputs": [],
   "source": [
    "# Q6. Create a list containing 25 int type data. Using for loop and if-else condition print if the element is \n",
    "#     divisible by 3 or not."
   ]
  },
  {
   "cell_type": "code",
   "execution_count": 57,
   "id": "df2c9444-de69-4147-a4ab-9c565e10c044",
   "metadata": {},
   "outputs": [
    {
     "name": "stdout",
     "output_type": "stream",
     "text": [
      "This element is divisible by 3: 3\n",
      "This element is divisible by 3: 6\n",
      "This element is divisible by 3: 9\n",
      "This element is divisible by 3: 12\n",
      "This element is divisible by 3: 15\n",
      "This element is divisible by 3: 18\n",
      "This element is divisible by 3: 21\n",
      "This element is divisible by 3: 24\n"
     ]
    }
   ],
   "source": [
    "# Ans -\n",
    "l = list(range(1,25))\n",
    "for i in l:\n",
    "    if i%3==0:\n",
    "        print(\"This element is divisible by 3:\", i)"
   ]
  },
  {
   "cell_type": "code",
   "execution_count": 58,
   "id": "72b8c29b-bdca-4f49-a10f-2320c272797b",
   "metadata": {},
   "outputs": [
    {
     "name": "stdout",
     "output_type": "stream",
     "text": [
      "This element is divisible by 3 : 3\n",
      "This element is divisible by 3 : 6\n",
      "This element is divisible by 3 : 9\n",
      "This element is divisible by 3 : 12\n",
      "This element is divisible by 3 : 15\n",
      "This element is divisible by 3 : 18\n",
      "This element is divisible by 3 : 21\n",
      "This element is divisible by 3 : 24\n"
     ]
    }
   ],
   "source": [
    "                  # or\n",
    "for i in l:\n",
    "    if i%3!=0:\n",
    "        continue\n",
    "    print(\"This element is divisible by 3 :\", i)"
   ]
  },
  {
   "cell_type": "code",
   "execution_count": 59,
   "id": "f6aa1bd0-7072-43f6-aa70-84b1d46758a6",
   "metadata": {},
   "outputs": [],
   "source": [
    "# Q7. What do you understand about mutable and immutable data types? Give examples for both showing \n",
    "#     this property."
   ]
  },
  {
   "cell_type": "code",
   "execution_count": 62,
   "id": "6056d467-b5ad-404b-b13c-1340697472c0",
   "metadata": {},
   "outputs": [
    {
     "ename": "TypeError",
     "evalue": "'str' object does not support item assignment",
     "output_type": "error",
     "traceback": [
      "\u001b[0;31m---------------------------------------------------------------------------\u001b[0m",
      "\u001b[0;31mTypeError\u001b[0m                                 Traceback (most recent call last)",
      "Cell \u001b[0;32mIn[62], line 3\u001b[0m\n\u001b[1;32m      1\u001b[0m \u001b[38;5;66;03m# Ans - That object who allows you to change its values without changing its identity is a mutable and that object\u001b[39;00m\n\u001b[1;32m      2\u001b[0m s \u001b[38;5;241m=\u001b[39m \u001b[38;5;124m\"\u001b[39m\u001b[38;5;124mkoyal\u001b[39m\u001b[38;5;124m\"\u001b[39m\n\u001b[0;32m----> 3\u001b[0m \u001b[43ms\u001b[49m\u001b[43m[\u001b[49m\u001b[38;5;241;43m2\u001b[39;49m\u001b[43m]\u001b[49m \u001b[38;5;241m=\u001b[39m \u001b[38;5;124m'\u001b[39m\u001b[38;5;124mt\u001b[39m\u001b[38;5;124m'\u001b[39m\n\u001b[1;32m      4\u001b[0m \u001b[38;5;28mprint\u001b[39m(s)\n",
      "\u001b[0;31mTypeError\u001b[0m: 'str' object does not support item assignment"
     ]
    }
   ],
   "source": [
    "# Ans - That object who allows you to change its values without changing its identity is a mutable and that object\n",
    "s = \"koyal\"\n",
    "s[2] = 't'\n",
    "print(s)"
   ]
  },
  {
   "cell_type": "code",
   "execution_count": 64,
   "id": "06703305-ca7e-4c72-b1e4-cd6c36f2f4bc",
   "metadata": {},
   "outputs": [
    {
     "name": "stdout",
     "output_type": "stream",
     "text": [
      "[3, 7, 8, 'aman', 8383.838]\n"
     ]
    }
   ],
   "source": [
    "# That object who doesn't allow you to change its value is immutable\n",
    "l = [3, 7, 8, 'banana', 8383.838]\n",
    "l[3] = 'aman'\n",
    "print(l)"
   ]
  },
  {
   "cell_type": "code",
   "execution_count": null,
   "id": "b3355ac6-2d5b-4401-adca-11ef610e1757",
   "metadata": {},
   "outputs": [],
   "source": []
  }
 ],
 "metadata": {
  "kernelspec": {
   "display_name": "Python 3 (ipykernel)",
   "language": "python",
   "name": "python3"
  },
  "language_info": {
   "codemirror_mode": {
    "name": "ipython",
    "version": 3
   },
   "file_extension": ".py",
   "mimetype": "text/x-python",
   "name": "python",
   "nbconvert_exporter": "python",
   "pygments_lexer": "ipython3",
   "version": "3.10.8"
  }
 },
 "nbformat": 4,
 "nbformat_minor": 5
}
